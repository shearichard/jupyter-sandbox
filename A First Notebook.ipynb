{
 "cells": [
  {
   "cell_type": "markdown",
   "metadata": {},
   "source": [
    "# This is a heading\n",
    "This is my first Jupyter Sandbox. \n",
    "\n",
    "Here are some resources I have made use of :\n",
    "\n",
    " - [How to start and run a Jupyter Notebook](https://unidata.github.io/online-python-training/notebook.html)\n",
    " - ['Running the Notebook' from the Jupyter documentation](https://jupyter.readthedocs.io/en/latest/running.html#running)"
   ]
  },
  {
   "cell_type": "code",
   "execution_count": 11,
   "metadata": {},
   "outputs": [
    {
     "name": "stdout",
     "output_type": "stream",
     "text": [
      "Width ? 55\n",
      "Height ? 55\n",
      "\n",
      "The area is 3025\n"
     ]
    }
   ],
   "source": [
    "# An example of accepting input from within Jupyter\n",
    "\n",
    "w = int(input(\"Width ? \"))\n",
    "h = int(input(\"Height ? \"))\n",
    "\n",
    "print(\"\")\n",
    "print(\"The area is\", w*h)"
   ]
  }
 ],
 "metadata": {
  "kernelspec": {
   "display_name": "Python 3",
   "language": "python",
   "name": "python3"
  },
  "language_info": {
   "codemirror_mode": {
    "name": "ipython",
    "version": 3
   },
   "file_extension": ".py",
   "mimetype": "text/x-python",
   "name": "python",
   "nbconvert_exporter": "python",
   "pygments_lexer": "ipython3",
   "version": "3.4.3"
  }
 },
 "nbformat": 4,
 "nbformat_minor": 2
}
